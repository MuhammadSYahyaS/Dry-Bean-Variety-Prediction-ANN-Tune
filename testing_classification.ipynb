{
 "cells": [
  {
   "cell_type": "markdown",
   "metadata": {},
   "source": [
    "# Dry Bean Variety Prediction by Multiclass Classification using ANN (testing)"
   ]
  },
  {
   "cell_type": "markdown",
   "metadata": {},
   "source": [
    "## Load dataset for the training process"
   ]
  },
  {
   "cell_type": "code",
   "execution_count": 1,
   "metadata": {},
   "outputs": [],
   "source": [
    "import os\n",
    "import numpy as np\n",
    "import pandas as pd"
   ]
  },
  {
   "cell_type": "markdown",
   "metadata": {},
   "source": [
    "### Open the CSV"
   ]
  },
  {
   "cell_type": "code",
   "execution_count": 2,
   "metadata": {},
   "outputs": [
    {
     "name": "stdout",
     "output_type": "stream",
     "text": [
      "Num test: 2722\n"
     ]
    }
   ],
   "source": [
    "df_test = pd.read_csv(os.path.join(\"DryBeanDataset\", \"dry_bean_test.csv\"))\n",
    "print(\"Num test:\", len(df_test))"
   ]
  },
  {
   "cell_type": "markdown",
   "metadata": {},
   "source": [
    "### Create dataset loader for testing process"
   ]
  },
  {
   "cell_type": "code",
   "execution_count": 3,
   "metadata": {},
   "outputs": [],
   "source": [
    "import torch\n",
    "from torch.utils.data import TensorDataset, DataLoader, Dataset"
   ]
  },
  {
   "cell_type": "markdown",
   "metadata": {},
   "source": [
    "### Features to be used and target"
   ]
  },
  {
   "cell_type": "code",
   "execution_count": 4,
   "metadata": {},
   "outputs": [],
   "source": [
    "x_names = [\n",
    "    \"Area\", \"Perimeter\", \"MajorAxisLength\", \"MinorAxisLength\", \"Eccentricity\", \"ConvexArea\",\n",
    "    \"EquivDiameter\", \"Extent\", \"Solidity\", \"ShapeFactor1\", \"ShapeFactor2\", \"ShapeFactor3\", \"ShapeFactor4\"]\n",
    "y_name = \"Class\"\n",
    "y_classes = [\"SEKER\", \"BARBUNYA\", \"BOMBAY\", \"CALI\", \"DERMASON\", \"HOROZ\", \"SIRA\"]"
   ]
  },
  {
   "cell_type": "markdown",
   "metadata": {},
   "source": [
    "### Convert Pandas dataframe to PyTorch dataset"
   ]
  },
  {
   "cell_type": "code",
   "execution_count": 5,
   "metadata": {},
   "outputs": [],
   "source": [
    "def df_to_dataset(df: pd.DataFrame) -> Dataset:\n",
    "    features = df[x_names].to_numpy(dtype=np.float32)\n",
    "    # preprocess data\n",
    "    df[\"Area\"] /= 500_000\n",
    "    df[\"Perimeter\"] /= 5000\n",
    "    df[\"MajorAxisLength\"] /= 2000\n",
    "    df[\"MinorAxisLength\"] /= 2000\n",
    "    df[\"ConvexArea\"] /= 500_000\n",
    "    df[\"EquivDiameter\"] /= 2000\n",
    "    # preprocess labels\n",
    "    labels = df[[y_name]].applymap(lambda x: y_classes.index(x)) # map Class labels to int\n",
    "    labels = labels.to_numpy(dtype=np.int64).squeeze(axis=1)\n",
    "    # create the dataset\n",
    "    features = torch.from_numpy(features)\n",
    "    labels = torch.from_numpy(labels)\n",
    "    my_dataset = TensorDataset(features, labels)\n",
    "    return my_dataset"
   ]
  },
  {
   "cell_type": "code",
   "execution_count": 6,
   "metadata": {},
   "outputs": [],
   "source": [
    "ds_test = df_to_dataset(df_test)"
   ]
  },
  {
   "cell_type": "markdown",
   "metadata": {},
   "source": [
    "### Create PyTorch data loader"
   ]
  },
  {
   "cell_type": "code",
   "execution_count": 7,
   "metadata": {},
   "outputs": [],
   "source": [
    "BATCH_SIZE = 64\n",
    "loader_test = DataLoader(ds_test, batch_size=BATCH_SIZE)"
   ]
  },
  {
   "cell_type": "markdown",
   "metadata": {},
   "source": [
    "## Model testing"
   ]
  },
  {
   "cell_type": "code",
   "execution_count": 8,
   "metadata": {},
   "outputs": [],
   "source": [
    "import models\n",
    "from tqdm.notebook import tqdm\n",
    "from sklearn.metrics import f1_score, accuracy_score"
   ]
  },
  {
   "cell_type": "markdown",
   "metadata": {},
   "source": [
    "### Which device we will use for testing process (CPU/GPU)"
   ]
  },
  {
   "cell_type": "code",
   "execution_count": 9,
   "metadata": {},
   "outputs": [
    {
     "name": "stdout",
     "output_type": "stream",
     "text": [
      "Using device: cuda\n"
     ]
    }
   ],
   "source": [
    "device = torch.device(\"cuda\" if torch.cuda.is_available() else \"cpu\")\n",
    "print(\"Using device:\", device)"
   ]
  },
  {
   "cell_type": "markdown",
   "metadata": {},
   "source": [
    "### Create the model"
   ]
  },
  {
   "cell_type": "code",
   "execution_count": 10,
   "metadata": {},
   "outputs": [],
   "source": [
    "model = models.MLP4Layers(n_features=len(x_names), n_classes=len(y_classes))\n",
    "# Move the model from CPU to the device\n",
    "# Actually, only required if the device is not CPU and has no effect if it is CPU\n",
    "model = model.to(device)"
   ]
  },
  {
   "cell_type": "markdown",
   "metadata": {},
   "source": [
    "### Load the trained weights of the model parameters"
   ]
  },
  {
   "cell_type": "code",
   "execution_count": 11,
   "metadata": {},
   "outputs": [
    {
     "data": {
      "text/plain": [
       "<All keys matched successfully>"
      ]
     },
     "execution_count": 11,
     "metadata": {},
     "output_type": "execute_result"
    }
   ],
   "source": [
    "WEIGHT_PATH = os.path.join(\"runs_clf\", \"train_20220904_081814\", \"best.pt\")\n",
    "model.load_state_dict(torch.load(WEIGHT_PATH))"
   ]
  },
  {
   "cell_type": "markdown",
   "metadata": {},
   "source": [
    "### The testing process"
   ]
  },
  {
   "cell_type": "code",
   "execution_count": 12,
   "metadata": {},
   "outputs": [
    {
     "data": {
      "application/vnd.jupyter.widget-view+json": {
       "model_id": "4d7512032fb14dceb0fd07684c424cbd",
       "version_major": 2,
       "version_minor": 0
      },
      "text/plain": [
       "0it [00:00, ?it/s]"
      ]
     },
     "metadata": {},
     "output_type": "display_data"
    },
    {
     "name": "stdout",
     "output_type": "stream",
     "text": [
      "Accuracy: 0.75165319617928, Weighted F1: 0.7490729516571731\n"
     ]
    }
   ],
   "source": [
    "# We don't need gradients for the model testing process\n",
    "model.eval()\n",
    "y_true = []\n",
    "y_pred = []\n",
    "with torch.no_grad():\n",
    "    for i, vdata in tqdm(enumerate(loader_test)):\n",
    "        vinputs, vlabels = vdata\n",
    "        y_true.extend(vlabels.numpy().tolist())\n",
    "        voutputs = model(vinputs.to(device))\n",
    "        # the class with the highest energy is what we choose as prediction\n",
    "        _, predicted = torch.max(voutputs.data, 1)\n",
    "        y_pred.extend(predicted.cpu().numpy().tolist())\n",
    "\n",
    "# Calculate our classification metrics\n",
    "acc = accuracy_score(y_true, y_pred)\n",
    "f1 = f1_score(y_true, y_pred, average=\"weighted\")\n",
    "print(f'Accuracy: {acc}, Weighted F1: {f1}')\n"
   ]
  },
  {
   "cell_type": "markdown",
   "metadata": {},
   "source": []
  }
 ],
 "metadata": {
  "kernelspec": {
   "display_name": "Python 3.8.10 ('ai_class')",
   "language": "python",
   "name": "python3"
  },
  "language_info": {
   "codemirror_mode": {
    "name": "ipython",
    "version": 3
   },
   "file_extension": ".py",
   "mimetype": "text/x-python",
   "name": "python",
   "nbconvert_exporter": "python",
   "pygments_lexer": "ipython3",
   "version": "3.8.10"
  },
  "orig_nbformat": 4,
  "vscode": {
   "interpreter": {
    "hash": "45806f2a31fc2394908bf2aae38bc8f96498b1e9c39d8308e884e6256764b6c9"
   }
  }
 },
 "nbformat": 4,
 "nbformat_minor": 2
}
